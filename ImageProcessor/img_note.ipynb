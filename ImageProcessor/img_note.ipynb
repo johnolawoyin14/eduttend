{
 "cells": [
  {
   "cell_type": "code",
   "execution_count": 164,
   "metadata": {},
   "outputs": [],
   "source": [
    "from helpers import backends, detector, models, df_metrics, delete_representations, get_id\n",
    "import cv2\n",
    "from cv2 import VideoCapture\n",
    "from deepface import DeepFace"
   ]
  },
  {
   "cell_type": "code",
   "execution_count": 192,
   "metadata": {},
   "outputs": [],
   "source": [
    "def register_face(id):\n",
    "    # check for duplicate id\n",
    "    if id + '.jpg' in os.listdir(os.getcwd() + '/img_db/'):\n",
    "        print(\"id already exists\")\n",
    "        check = input(\"Enter new id or enter 'x' to quit: \").lower()\n",
    "        if check == 'x':\n",
    "            print(\"exiting command...\")\n",
    "            return\n",
    "        else:\n",
    "            id = check\n",
    "            \n",
    "    cap = VideoCapture(0)\n",
    "\n",
    "    while True:\n",
    "        ret, frame = cap.read()\n",
    "        face = detector(frame)\n",
    "        if face:\n",
    "            # crop and save image\n",
    "            x,y,w,h = face[0]['facial_area'].values()\n",
    "            cv2.rectangle(frame, (x,y), (x+w, y+h), (0, 255, 0), 3)\n",
    "            crop_img = frame[y:y+h, x:x+w]\n",
    "            cv2.imshow('detect face', frame)\n",
    "            if cv2.waitKey(1) & 0xFF == ord('q'):\n",
    "                break\n",
    "            elif cv2.waitKey(1) & 0xFF == ord('c'):\n",
    "                # save face\n",
    "                face_path = \"/img_db/\"+id+\".jpg\"\n",
    "                cv2.imwrite(face_path, crop_img)\n",
    "                print(f\" id {id} registered successfully\")\n",
    "                print(f\"image stored in {face_path}\")\n",
    "                delete_representations()\n",
    "                \n",
    "                break\n",
    "        else:\n",
    "            # if no face detected\n",
    "            h,w = frame.shape[:2]\n",
    "            text = 'Adjust face and brightness'\n",
    "            font = cv2.FONT_HERSHEY_SIMPLEX\n",
    "            fontsize = 1  \n",
    "            color = (0,255,0)\n",
    "            thickness = 2\n",
    "            text_size, _ = cv2.getTextSize(text, font, fontsize, thickness)\n",
    "\n",
    "            x = (w - text_size[0]) // 2  \n",
    "            y = (h + text_size[1]) // 2\n",
    "            cv2.putText(frame, text, (x, y), font, fontsize, color, thickness)\n",
    "            # cv2.putText(frame, text, (10, h - 20), cv2.FONT_HERSHEY_DUPLEX, 1, (0, 255, 0,), 1)\n",
    "            # cv2.putText(crop_img, 'Align face', (x,y-10), cv2.FONT_HERSHEY_SIMPLEX, 1, (0,255,0), 2)\n",
    "            cv2.imshow('detect face', frame)\n",
    "            if cv2.waitKey(1) & 0xFF == ord('q'):\n",
    "                break\n",
    "\n",
    "    cap.release()\n",
    "    cv2.destroyAllWindows() "
   ]
  },
  {
   "cell_type": "code",
   "execution_count": 172,
   "metadata": {},
   "outputs": [
    {
     "name": "stdout",
     "output_type": "stream",
     "text": [
      "id already exists\n",
      " id mme173416 registered successfully\n",
      "image stored in /img_db/mme173416.jpg\n",
      "previous representations deleted\n"
     ]
    }
   ],
   "source": [
    "id = input(\"Enter id: \")\n",
    "register_face(id)"
   ]
  },
  {
   "cell_type": "code",
   "execution_count": 173,
   "metadata": {},
   "outputs": [],
   "source": [
    "def face_detect():\n",
    "    cap = cv2.VideoCapture(0)\n",
    "    dfs = []\n",
    "    \n",
    "    while True:\n",
    "        ret, frame = cap.read()\n",
    "\n",
    "        if ret == False:\n",
    "            break\n",
    "        \n",
    "        face = detector(frame)\n",
    "        if face is not None:\n",
    "            # face detection and recognition logic\n",
    "            x,y,w,h = face[0]['facial_area'].values()  \n",
    "            cv2.rectangle(frame, (x,y), (x+w, y+h), (0,255, 0), 3)\n",
    "            # cv2.imshow('detect face', frame)\n",
    "            \n",
    "            if cv2.waitKey(1) & 0xFF == ord('c'):\n",
    "                df = DeepFace.find(img_path=frame, db_path=\"./img_db/\", model_name=models[2], \n",
    "                                   distance_metric=df_metrics[2], enforce_detection=False)\n",
    "                                #    detector_backend=backends[0])\n",
    "                dfs.append(df)\n",
    "                break\n",
    "\n",
    "        cv2.imshow('display', frame)\n",
    "                \n",
    "        if cv2.waitKey(1) & 0xFF == ord('q'):\n",
    "            break\n",
    "            \n",
    "    cap.release()\n",
    "    cv2.destroyAllWindows()\n",
    "\n",
    "    user_id = get_id(dfs)\n",
    "    \n",
    "    return user_id"
   ]
  },
  {
   "cell_type": "code",
   "execution_count": 174,
   "metadata": {},
   "outputs": [
    {
     "name": "stderr",
     "output_type": "stream",
     "text": [
      "Finding representations: 100%|██████████| 2/2 [00:02<00:00,  1.43s/it]\n"
     ]
    },
    {
     "name": "stdout",
     "output_type": "stream",
     "text": [
      "24-01-15 09:52:53 - Representations stored in ./img_db//representations_facenet512.pkl file.Please delete this file when you add new identities in your database.\n",
      "24-01-15 09:52:54 - find function lasts 3.8008406162261963 seconds\n"
     ]
    }
   ],
   "source": [
    "face_result = face_detect()"
   ]
  },
  {
   "cell_type": "code",
   "execution_count": 191,
   "metadata": {},
   "outputs": [
    {
     "data": {
      "text/plain": [
       "'mee173322.jpg'"
      ]
     },
     "execution_count": 191,
     "metadata": {},
     "output_type": "execute_result"
    }
   ],
   "source": [
    "face_result"
   ]
  },
  {
   "cell_type": "code",
   "execution_count": 159,
   "metadata": {},
   "outputs": [],
   "source": [
    "def check_duplicate_registration(id):\n",
    "    if id in os.listdir(os.getcwd() + '/img_db/'):\n",
    "        return True\n",
    "    else:\n",
    "        return False"
   ]
  },
  {
   "cell_type": "code",
   "execution_count": null,
   "metadata": {},
   "outputs": [],
   "source": []
  }
 ],
 "metadata": {
  "kernelspec": {
   "display_name": "deep_face",
   "language": "python",
   "name": "python3"
  },
  "language_info": {
   "codemirror_mode": {
    "name": "ipython",
    "version": 3
   },
   "file_extension": ".py",
   "mimetype": "text/x-python",
   "name": "python",
   "nbconvert_exporter": "python",
   "pygments_lexer": "ipython3",
   "version": "3.10.0"
  }
 },
 "nbformat": 4,
 "nbformat_minor": 2
}
